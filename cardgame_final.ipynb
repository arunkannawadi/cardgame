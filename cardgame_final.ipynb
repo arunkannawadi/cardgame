{
 "cells": [
  {
   "cell_type": "markdown",
   "metadata": {},
   "source": [
    "## Bet Better\n",
    "\n",
    "This is a simple game. A card is drawn from a deck randomly. If it is a letter card (A,K,Q,J), you win. If it is a number card (2-10), then you lose. Choose your own winning and losing bets. Don't be greedy! \n",
    "\n",
    "In the block below, choose your winning bet as the variable A_pays and your losing bet as the variable B_pays. Run (Shift+Enter) the block below and run the top block as many times as you want to play! Enjoy the game :-)"
   ]
  },
  {
   "cell_type": "code",
   "execution_count": null,
   "metadata": {
    "collapsed": false
   },
   "outputs": [],
   "source": [
    "A_pays = 5 ## Winning bet\n",
    "B_pays = 5 ## Losing bet\n",
    "play()"
   ]
  },
  {
   "cell_type": "code",
   "execution_count": null,
   "metadata": {
    "collapsed": false
   },
   "outputs": [],
   "source": [
    "import numpy as np\n",
    "import matplotlib\n",
    "%matplotlib inline\n",
    "import matplotlib.pyplot as plt\n",
    "import future\n",
    "\n",
    "def play(N_days=365):\n",
    "    if A_pays<0 or B_pays<0:\n",
    "        print(\"Sorry, but the bet amounts cannot be negative\")\n",
    "        return None\n",
    "    if A_pays*1./B_pays>5:\n",
    "        print(\"That's way too greedy. Try a different amount.\")\n",
    "        return None\n",
    "    \n",
    "    deck = ['A','2','3','4','5','6','7','8','9','10','J','Q','K']\n",
    "    letters = ['A','K','Q','J']\n",
    "    good_strategy = (A_pays*len(letters)-B_pays*(len(deck)-len(letters)))>0\n",
    "\n",
    "    cards = np.array(deck)[np.random.randint(low=0,high=13,size=N_days)]\n",
    "    wins = cards>='A' ## declare letter cards as win based on ASCII code\n",
    "    profit = A_pays*wins - B_pays*(~wins)\n",
    "    total_profit = profit.sum()\n",
    "    \n",
    "    def plot_expectation_risk(N):\n",
    "        c = 'g' if good_strategy else 'r'\n",
    "        x = [0,N]\n",
    "        mean = (4*A_pays/13.-9*B_pays/13.)*N\n",
    "        plt.plot(x,[0,mean],color=c,ls='-')\n",
    "        var = ((A_pays*N)**2)*4/13. + ((B_pays*N)**2)*9/13. - mean**2\n",
    "        std = np.sqrt(var)\n",
    "        plt.fill_between(x,[0,mean+std],[0,mean-std],color=c,alpha=0.5)\n",
    "        #plt.fill_between(x,[0,mean+3*std],[0,mean-3*std],color=c,alpha=0.2)\n",
    "    \n",
    "    plt.plot(np.cumsum(profit))\n",
    "    plt.axhline(0,color='k',ls='--')\n",
    "    plt.xlabel('No. of days')\n",
    "    plt.ylabel(\"Your profit\")\n",
    "    plt.title('Profit Chart')\n",
    "    plot_expectation_risk(N_days)\n",
    "\n",
    "    print(\"Hello B! Your total profit was \", total_profit)\n",
    "    if total_profit<0:\n",
    "        if good_strategy:\n",
    "            print(\"Oops! :( Your bet was good, but bad luck. Better luck next time.\")\n",
    "        else:\n",
    "            print(\"Oops! :( No wonder you lost. Your bet was bad\")\n",
    "        print(\" You pay A\", -total_profit, \"rupees.\")\n",
    "    else:\n",
    "        if good_strategy:\n",
    "            print(\"Congrats! You won. Thanks to your good bet.\")\n",
    "        else:\n",
    "            print(\"Wow! Your bet was bad, but luck was on your side.\")\n",
    "        print(\"A pays you\", total_profit, \"rupees.\")\n",
    "    print(\"Your cards were\")\n",
    "    print(cards)\n",
    "    #return cards, profit"
   ]
  },
  {
   "cell_type": "code",
   "execution_count": null,
   "metadata": {
    "collapsed": true
   },
   "outputs": [],
   "source": []
  }
 ],
 "metadata": {
  "anaconda-cloud": {},
  "kernelspec": {
   "display_name": "Python [conda root]",
   "language": "python",
   "name": "conda-root-py"
  },
  "language_info": {
   "codemirror_mode": {
    "name": "ipython",
    "version": 2
   },
   "file_extension": ".py",
   "mimetype": "text/x-python",
   "name": "python",
   "nbconvert_exporter": "python",
   "pygments_lexer": "ipython2",
   "version": "2.7.12"
  }
 },
 "nbformat": 4,
 "nbformat_minor": 1
}
